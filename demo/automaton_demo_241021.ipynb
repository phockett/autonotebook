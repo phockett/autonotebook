{
 "cells": [
  {
   "cell_type": "markdown",
   "metadata": {},
   "source": [
    "# Running automation test code\n",
    "\n",
    "Demo for autonotebook, https://github.com/phockett/autonotebook\n",
    "\n",
    "23/10/21 version - with server code added.\n",
    "\n",
    "21/10/21 version - with updated pathRework branch."
   ]
  },
  {
   "cell_type": "markdown",
   "metadata": {},
   "source": [
    "## Init"
   ]
  },
  {
   "cell_type": "code",
   "execution_count": null,
   "metadata": {},
   "outputs": [],
   "source": [
    "# Import class\n",
    "# from notebook_automation_2021.automaton.autoProc import autoProc\n",
    "\n",
    "# Set for test repo\n",
    "import os\n",
    "from pathlib import Path\n",
    "modPath = Path(os.getcwd()).parent.as_posix()   # Assuming working in ./demo dir\n",
    "\n",
    "import sys\n",
    "sys.path.append(modPath)\n",
    "\n",
    "# from autonotebook.automaton.autoProc import autoProc\n",
    "# from autonotebook.automaton import autoProc\n",
    "# from automaton import autoProc\n",
    "# from automaton.autoProc import autoProc\n",
    "from automaton.autoProc import autoProc"
   ]
  },
  {
   "cell_type": "markdown",
   "metadata": {},
   "source": [
    "### Instantiate class\n",
    "\n",
    "This will:\n",
    "\n",
    "- Load settings from file (tries `.settings` from working dir if not specified).\n",
    "- Set paths.\n",
    "- Spawn a server process (if `server=1`)."
   ]
  },
  {
   "cell_type": "code",
   "execution_count": null,
   "metadata": {},
   "outputs": [],
   "source": [
    "# Instantiate class object\n",
    "testClass = autoProc(settingsFile = 'settingsDemo')   # Will try to load .settings if not specified"
   ]
  },
  {
   "cell_type": "code",
   "execution_count": null,
   "metadata": {},
   "outputs": [],
   "source": [
    "testClass.paths"
   ]
  },
  {
   "cell_type": "code",
   "execution_count": null,
   "metadata": {},
   "outputs": [],
   "source": [
    "# Full set of options from file.\n",
    "testClass.options"
   ]
  },
  {
   "cell_type": "code",
   "execution_count": null,
   "metadata": {},
   "outputs": [],
   "source": [
    "testClass.settingsFile"
   ]
  },
  {
   "cell_type": "markdown",
   "metadata": {},
   "source": [
    "## Watch dir tree\n",
    "\n",
    "Run `self.pollDir()` to start watching the target dir.\n",
    "\n",
    "Currently this will:\n",
    "\n",
    "- Generate a new notebook when a `.h5` file appears, using the currently set `nbTemplate` file. Note this is checked at each trigger event, so can be changed in the settings file while running.\n",
    "- Generate URL links if `serve=1`.\n",
    "- Push to Slack if `slack=1`.\n",
    "\n",
    "To trigger some demo activity, run, e.g., `touch watchDemo/watchSub2/test02.h5` at the terminal."
   ]
  },
  {
   "cell_type": "code",
   "execution_count": null,
   "metadata": {},
   "outputs": [],
   "source": [
    "# Run with dir polling\n",
    "testClass.pollDir()"
   ]
  },
  {
   "cell_type": "markdown",
   "metadata": {},
   "source": [
    "## Version info"
   ]
  },
  {
   "cell_type": "code",
   "execution_count": null,
   "metadata": {},
   "outputs": [],
   "source": [
    "import scooby\n",
    "scooby.Report()"
   ]
  },
  {
   "cell_type": "code",
   "execution_count": null,
   "metadata": {},
   "outputs": [],
   "source": [
    "# Check current Git commit for local version\n",
    "!git -C {modPath} branch\n",
    "!git -C {modPath} log --format=\"%H\" -n 1\n"
   ]
  },
  {
   "cell_type": "code",
   "execution_count": null,
   "metadata": {},
   "outputs": [],
   "source": [
    "# Check current remote commits\n",
    "!git ls-remote --heads git://github.com/phockett/autonotebook"
   ]
  },
  {
   "cell_type": "code",
   "execution_count": null,
   "metadata": {},
   "outputs": [],
   "source": []
  }
 ],
 "metadata": {
  "kernelspec": {
   "display_name": "Python [conda env:automation]",
   "language": "python",
   "name": "conda-env-automation-py"
  },
  "language_info": {
   "codemirror_mode": {
    "name": "ipython",
    "version": 3
   },
   "file_extension": ".py",
   "mimetype": "text/x-python",
   "name": "python",
   "nbconvert_exporter": "python",
   "pygments_lexer": "ipython3",
   "version": "3.8.12"
  }
 },
 "nbformat": 4,
 "nbformat_minor": 4
}
